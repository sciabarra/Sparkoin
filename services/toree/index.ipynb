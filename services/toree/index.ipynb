{
 "cells": [
  {
   "cell_type": "markdown",
   "metadata": {},
   "source": [
    "# Welcome\n",
    "\n",
    "This is a try site for [Apache Toree](https://github.com/apache/incubator-toree). A Jupyter Notebook Server was **launched just for you** to try a variety of demos of Apache Toree. Some of the demos are simple to illustrate some of Apache Toree's features, others are more involved and showcase Apache Toree working in conjunction with other projects from the [Jupyter](http://jupyter.org/) Ecosystem.\n",
    "\n",
    "A full collection of examples are [here](etc/examples/notebooks)"
   ]
  },
  {
   "cell_type": "markdown",
   "metadata": {},
   "source": [
    "### [Meetup.com Streaming Demo](etc/examples/notebooks/meetup-streaming-toree.ipynb)\n",
    "\n",
    "This demostration includes:\n",
    "* Live streaming analytics using [Apache Spark Streaming](http://spark.apache.org/streaming/)\n",
    "* Interactive areas using [jupyter_declarativewidgets](https://github.com/jupyter-incubator/declarativewidgets)\n",
    "* Dashboard layout using [jupyter_dashboard](https://github.com/jupyter-incubator/dashboards)"
   ]
  }
 ],
 "metadata": {
  "kernelspec": {
   "display_name": "Python 3",
   "language": "python",
   "name": "python3"
  },
  "language_info": {
   "codemirror_mode": {
    "name": "ipython",
    "version": 3
   },
   "file_extension": ".py",
   "mimetype": "text/x-python",
   "name": "python",
   "nbconvert_exporter": "python",
   "pygments_lexer": "ipython3",
   "version": "3.4.4"
  }
 },
 "nbformat": 4,
 "nbformat_minor": 0
}
