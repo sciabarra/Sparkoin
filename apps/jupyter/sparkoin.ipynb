{
 "cells": [
  {
   "cell_type": "code",
   "execution_count": 1,
   "metadata": {
    "collapsed": false,
    "scrolled": true
   },
   "outputs": [
    {
     "name": "stdout",
     "output_type": "stream",
     "text": [
      "Starting download from file:///app/apps/jupyter/sparkoin.jar\n",
      "Finished download of sparkoin.jar\n"
     ]
    }
   ],
   "source": [
    "%AddJar file:///app/apps/jupyter/sparkoin.jar"
   ]
  },
  {
   "cell_type": "code",
   "execution_count": 2,
   "metadata": {
    "ExecuteTime": {
     "end_time": "2016-05-03T11:30:43.660630",
     "start_time": "2016-05-03T11:30:43.380Z"
    },
    "collapsed": false
   },
   "outputs": [],
   "source": [
    "val txt = sc.textFile(\"hdfs://hadoop.loc/blockchain/0.json\")\n",
    "val json = txt.first"
   ]
  },
  {
   "cell_type": "code",
   "execution_count": 3,
   "metadata": {
    "collapsed": false
   },
   "outputs": [
    {
     "name": "stdout",
     "output_type": "stream",
     "text": [
      "{\n",
      "  \"block\" : {\n",
      "    \"block_id\" : \"000000000019d6689c085ae165831e934ff763ae46a2a6c172b3f1b60a8ce26f\",\n",
      "    \"block_height\" : 0,\n",
      "    \"tx_number\" : 1,\n",
      "    \"difficulty\" : 1,\n",
      "    \"header\" : {\n",
      "      \"hash\" : \"000000000019d6689c085ae165831e934ff763ae46a2a6c172b3f1b60a8ce26f\",\n",
      "      \"version\" : 1,\n",
      "      \"prevHash\" : \"0000000000000000000000000000000000000000000000000000000000000000\",\n",
      "      \"merkleRoot\" : \"4a5e1e4baab89f3a32518a88c31bc87f618f76673e2cc77ab2127b7afdeda33b\",\n",
      "      \"time\" : 1231006505,\n",
      "      \"bits\" : 486604799,\n",
      "      \"nonce\" : 2083236893\n",
      "    }\n",
      "  },\n",
      "  \"tx\" : [ {\n",
      "    \"hash\" : \"4a5e1e4baab89f3a32518a88c31bc87f618f76673e2cc77ab2127b7afdeda33b\",\n",
      "    \"version\" : 1,\n",
      "    \"inputs\" : [ {\n",
      "      \"prevTxId\" : \"0000000000000000000000000000000000000000000000000000000000000000\",\n",
      "      \"outputIndex\" : 4294967295,\n",
      "      \"sequenceNumber\" : 4294967295,\n",
      "      \"script\" : \"04ffff001d0104455468652054696d65732030332f4a616e2f32303039204368616e63656c6c6f72206f6e206272696e6b206f66207365636f6e64206261696c6f757420666f722062616e6b73\"\n",
      "    } ],\n",
      "    \"outputs\" : [ {\n",
      "      \"satoshis\" : 5000000000,\n",
      "      \"script\" : \"4104678afdb0fe5548271967f1a67130b7105cd6a828e03909a67962e0ea1f61deb649f6bc3f4cef38c4f35504e51ec112de5c384df7ba0b8d578a4c702b6bf11d5fac\"\n",
      "    } ],\n",
      "    \"nLockTime\" : 0,\n",
      "    \"block_id\" : \"000000000019d6689c085ae165831e934ff763ae46a2a6c172b3f1b60a8ce26f\",\n",
      "    \"block_time\" : 1231006505,\n",
      "    \"tx_out_list\" : [ {\n",
      "      \"script_pub_key\" : \"65 0x04678afdb0fe5548271967f1a67130b7105cd6a828e03909a67962e0ea1f61deb649f6bc3f4cef38c4f35504e51ec112de5c384df7ba0b8d578a4c702b6bf11d5f OP_CHECKSIG\",\n",
      "      \"address\" : \"false\",\n",
      "      \"value\" : 5000000000\n",
      "    } ],\n",
      "    \"tx_in_list\" : [ ]\n",
      "  } ]\n",
      "}\n"
     ]
    }
   ],
   "source": [
    "import sparkoin._, Sparkoin._\n",
    "println(prettify(json))"
   ]
  }
 ],
 "metadata": {
  "celltoolbar": "Raw Cell Format",
  "kernelspec": {
   "display_name": "Toree - Scala",
   "language": "scala",
   "name": "toree_scala"
  },
  "language_info": {
   "name": "scala"
  }
 },
 "nbformat": 4,
 "nbformat_minor": 0
}
