{
 "cells": [
  {
   "cell_type": "code",
   "execution_count": 3,
   "metadata": {
    "collapsed": false,
    "scrolled": true
   },
   "outputs": [
    {
     "name": "stdout",
     "output_type": "stream",
     "text": [
      "Starting download from file:///app/apps/sparkoin/sparkoin.jar\n",
      "Finished download of sparkoin.jar\n"
     ]
    }
   ],
   "source": [
    "%AddJar file:///app/apps/sparkoin/sparkoin.jar -f\n",
    "import sparkoin._,Sparkoin._ \n",
    "import org.json4s._, jackson.JsonMethods._"
   ]
  },
  {
   "cell_type": "code",
   "execution_count": 2,
   "metadata": {
    "collapsed": false
   },
   "outputs": [],
   "source": [
    "val raw = sc.textFile(\"hdfs://hadoop.loc/blockchain/0.json\")\n",
    "val parsed = raw.map(extract)"
   ]
  },
  {
   "cell_type": "code",
   "execution_count": 2,
   "metadata": {
    "collapsed": false
   },
   "outputs": [
    {
     "data": {
      "text/plain": [
       "Name: Compile Error\n",
       "Message: <console>:34: error: not found: value raw\n",
       "              prettify(raw.first)\n",
       "                       ^\n",
       "StackTrace: "
      ]
     },
     "execution_count": 2,
     "metadata": {},
     "output_type": "execute_result"
    }
   ],
   "source": [
    "prettify(raw.first)"
   ]
  },
  {
   "cell_type": "code",
   "execution_count": 4,
   "metadata": {
    "collapsed": false,
    "scrolled": true
   },
   "outputs": [
    {
     "data": {
      "text/plain": [
       "{\n",
       "  \"block\" : {\n",
       "    \"block_id\" : \"000000000019d6689c085ae165831e934ff763ae46a2a6c172b3f1b60a8ce26f\",\n",
       "    \"block_height\" : -1,\n",
       "    \"tx_number\" : 1,\n",
       "    \"difficulty\" : 1,\n",
       "    \"header\" : {\n",
       "      \"hash\" : \"000000000019d6689c085ae165831e934ff763ae46a2a6c172b3f1b60a8ce26f\",\n",
       "      \"version\" : 1,\n",
       "      \"prevHash\" : \"0000000000000000000000000000000000000000000000000000000000000000\",\n",
       "      \"merkleRoot\" : \"4a5e1e4baab89f3a32518a88c31bc87f618f76673e2cc77ab2127b7afdeda33b\",\n",
       "      \"time\" : 1231006505,\n",
       "      \"bits\" : 486604799,\n",
       "      \"nonce\" : 2083236893\n",
       "    }\n",
       "  },\n",
       "  \"tx\" : [ {\n",
       "    \"hash\" : \"4a5e1e4baab89f3a32518a88c31bc87f618f76673e2cc77ab2127b7afdeda33b\",\n",
       "    \"version\" : 1,\n",
       "    \"inputs\" : [ {\n",
       "      \"prevTxId\" : \"0000000000000000000000000000000000000000000000000000000000000000\",\n",
       "     ..."
      ]
     },
     "execution_count": 4,
     "metadata": {},
     "output_type": "execute_result"
    }
   ],
   "source": [
    "val r1 = sc.textFile(\"hdfs://hadoop.loc/blockchain/0.json\")\n",
    "prettify(r1.first)"
   ]
  },
  {
   "cell_type": "code",
   "execution_count": 5,
   "metadata": {
    "collapsed": false
   },
   "outputs": [
    {
     "data": {
      "text/plain": [
       "FullBlock(Block(000000000019d6689c085ae165831e934ff763ae46a2a6c172b3f1b60a8ce26f,-1,1,1.0,BlockHeader(000000000019d6689c085ae165831e934ff763ae46a2a6c172b3f1b60a8ce26f,1,0000000000000000000000000000000000000000000000000000000000000000,4a5e1e4baab89f3a32518a88c31bc87f618f76673e2cc77ab2127b7afdeda33b,1231006505,486604799,2083236893)),List(Tx(4a5e1e4baab89f3a32518a88c31bc87f618f76673e2cc77ab2127b7afdeda33b,000000000019d6689c085ae165831e934ff763ae46a2a6c172b3f1b60a8ce26f,1231006505,1,List(),List(TxOutput(5000000000,65 0x04678afdb0fe5548271967f1a67130b7105cd6a828e03909a67962e0ea1f61deb649f6bc3f4cef38c4f35504e51ec112de5c384df7ba0b8d578a4c702b6bf11d5f OP_CHECKSIG,false)),0)))"
      ]
     },
     "execution_count": 5,
     "metadata": {},
     "output_type": "execute_result"
    }
   ],
   "source": [
    "parsed.first"
   ]
  }
 ],
 "metadata": {
  "celltoolbar": "Raw Cell Format",
  "kernelspec": {
   "display_name": "Toree - Scala",
   "language": "scala",
   "name": "toree_scala"
  },
  "language_info": {
   "name": "scala"
  }
 },
 "nbformat": 4,
 "nbformat_minor": 0
}
