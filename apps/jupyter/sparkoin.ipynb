{
 "cells": [
  {
   "cell_type": "code",
   "execution_count": 14,
   "metadata": {
    "collapsed": false,
    "scrolled": true
   },
   "outputs": [
    {
     "name": "stdout",
     "output_type": "stream",
     "text": [
      "Starting download from file:///app/apps/jupyter/sparkoin.jar\n",
      "Finished download of sparkoin.jar\n",
      "Marking com.github.nikita-volkov:sext:0.2.4 for download\n",
      "Preparing to fetch from:\n",
      "-> file:/tmp/.ivy2/\n",
      "-> https://repo1.maven.org/maven2\n",
      "-> New file at /tmp/.ivy2/https/repo1.maven.org/maven2/com/github/nikita-volkov/sext/0.2.4/sext-0.2.4.jar\n"
     ]
    }
   ],
   "source": [
    "%AddJar file:///app/apps/jupyter/sparkoin.jar -f\n",
    "%AddDeps com.github.nikita-volkov sext 0.2.4\n",
    "import sparkoin._,Sparkoin._ \n",
    "import org.json4s._, jackson.JsonMethods._\n",
    "import sext._"
   ]
  },
  {
   "cell_type": "code",
   "execution_count": null,
   "metadata": {
    "collapsed": false
   },
   "outputs": [],
   "source": [
    "import sext._\n",
    "val r = sc.textFile(\"hdfs://hadoop.loc/blockchain/?.json\").map(extract).map(_.tx)\n",
    "r.first.treeString"
   ]
  },
  {
   "cell_type": "code",
   "execution_count": 2,
   "metadata": {
    "collapsed": false
   },
   "outputs": [
    {
     "data": {
      "text/plain": [
       "{\n",
       "  \"block\" : {\n",
       "    \"block_id\" : \"000000000019d6689c085ae165831e934ff763ae46a2a6c172b3f1b60a8ce26f\",\n",
       "    \"block_height\" : 0,\n",
       "    \"tx_number\" : 1,\n",
       "    \"difficulty\" : 1,\n",
       "    \"header\" : {\n",
       "      \"hash\" : \"000000000019d6689c085ae165831e934ff763ae46a2a6c172b3f1b60a8ce26f\",\n",
       "      \"version\" : 1,\n",
       "      \"prevHash\" : \"0000000000000000000000000000000000000000000000000000000000000000\",\n",
       "      \"merkleRoot\" : \"4a5e1e4baab89f3a32518a88c31bc87f618f76673e2cc77ab2127b7afdeda33b\",\n",
       "      \"time\" : 1231006505,\n",
       "      \"bits\" : 486604799,\n",
       "      \"nonce\" : 2083236893\n",
       "    }\n",
       "  },\n",
       "  \"tx\" : [ {\n",
       "    \"hash\" : \"4a5e1e4baab89f3a32518a88c31bc87f618f76673e2cc77ab2127b7afdeda33b\",\n",
       "    \"version\" : 1,\n",
       "    \"inputs\" : [ {\n",
       "      \"prevTxId\" : \"0000000000000000000000000000000000000000000000000000000000000000\",\n",
       "     ..."
      ]
     },
     "execution_count": 2,
     "metadata": {},
     "output_type": "execute_result"
    }
   ],
   "source": [
    "val r1 = sc.textFile(\"hdfs://hadoop.loc/blockchain/0.json\")\n",
    "prettify(r1.first)"
   ]
  },
  {
   "cell_type": "code",
   "execution_count": 3,
   "metadata": {
    "collapsed": false
   },
   "outputs": [
    {
     "data": {
      "text/plain": [
       "{\n",
       "  \"block\" : {\n",
       "    \"block_id\" : \"000000000019d6689c085ae165831e934ff763ae46a2a6c172b3f1b60a8ce26f\",\n",
       "    \"block_height\" : 0,\n",
       "    \"tx_number\" : 1,\n",
       "    \"difficulty\" : 1,\n",
       "    \"header\" : {\n",
       "      \"hash\" : \"000000000019d6689c085ae165831e934ff763ae46a2a6c172b3f1b60a8ce26f\",\n",
       "      \"version\" : 1,\n",
       "      \"prevHash\" : \"0000000000000000000000000000000000000000000000000000000000000000\",\n",
       "      \"merkleRoot\" : \"4a5e1e4baab89f3a32518a88c31bc87f618f76673e2cc77ab2127b7afdeda33b\",\n",
       "      \"time\" : 1231006505,\n",
       "      \"bits\" : 486604799,\n",
       "      \"nonce\" : 2083236893\n",
       "    }\n",
       "  },\n",
       "  \"tx\" : [ {\n",
       "    \"hash\" : \"4a5e1e4baab89f3a32518a88c31bc87f618f76673e2cc77ab2127b7afdeda33b\",\n",
       "    \"version\" : 1,\n",
       "    \"inputs\" : [ {\n",
       "      \"prevTxId\" : \"0000000000000000000000000000000000000000000000000000000000000000\",\n",
       "     ..."
      ]
     },
     "execution_count": 3,
     "metadata": {},
     "output_type": "execute_result"
    }
   ],
   "source": [
    "val r1 = sc.textFile(\"hdfs://hadoop.loc/blockchain/0.json\")\n",
    "prettify(r1.first)"
   ]
  }
 ],
 "metadata": {
  "celltoolbar": "Raw Cell Format",
  "kernelspec": {
   "display_name": "Toree - Scala",
   "language": "scala",
   "name": "toree_scala"
  },
  "language_info": {
   "name": "scala"
  }
 },
 "nbformat": 4,
 "nbformat_minor": 0
}
