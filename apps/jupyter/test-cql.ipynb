{
 "cells": [
  {
   "cell_type": "code",
   "execution_count": 41,
   "metadata": {
    "collapsed": false
   },
   "outputs": [
    {
     "data": {
      "text/html": [
       "<table>\n",
       " <tr><th>topic</th> <th>partition</th> <th>offset</th><tr>\n",
       " <tr><td>block</td> <td>        0</td> <td>  3115</td></tr>\n",
       " <tr><td>   tx</td> <td>        0</td> <td>  3115</td></tr>\n",
       "</table>\n",
       "(2 rows)"
      ]
     },
     "execution_count": 41,
     "metadata": {},
     "output_type": "execute_result"
    }
   ],
   "source": [
    "select * from sparkoin.offsets"
   ]
  },
  {
   "cell_type": "code",
   "execution_count": 38,
   "metadata": {
    "collapsed": false
   },
   "outputs": [
    {
     "data": {
      "text/html": [
       "<table>\n",
       " <tr><th>count</th><tr>\n",
       " <tr><td> 1205</td></tr>\n",
       "</table>\n",
       "(1 rows)"
      ]
     },
     "execution_count": 38,
     "metadata": {},
     "output_type": "execute_result"
    }
   ],
   "source": [
    "select count(*) from sparkoin.tx"
   ]
  },
  {
   "cell_type": "code",
   "execution_count": null,
   "metadata": {
    "collapsed": true
   },
   "outputs": [],
   "source": []
  }
 ],
 "metadata": {
  "kernelspec": {
   "display_name": "CQL",
   "language": "CQL",
   "name": "cql"
  },
  "language_info": {
   "codemirror_mode": "sql",
   "file_extension": ".cql",
   "mimetype": "text/x-cassandra",
   "name": "CQL"
  }
 },
 "nbformat": 4,
 "nbformat_minor": 0
}
